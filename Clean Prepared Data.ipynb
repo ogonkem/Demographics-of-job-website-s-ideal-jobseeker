{
 "cells": [
  {
   "cell_type": "code",
   "execution_count": 30,
   "metadata": {},
   "outputs": [],
   "source": [
    "#functions\n",
    "\n",
    "from datetime import datetime as dt\n",
    "from datetime import date\n",
    "\n",
    "#change directory path\n",
    "def change_path(minslice,newpath):\n",
    "    import os\n",
    "    os.getcwd()\n",
    "    path = os.getcwd()\n",
    "    writepath = path[:minslice] + newpath\n",
    "    return writepath\n",
    "\n",
    "# Takes a date as a datetime, and returns age. \n",
    "# If there is no date given, returns None\n",
    "def calculate_age(born):\n",
    "    today = date.today()\n",
    "    if born == None:\n",
    "        return None\n",
    "    else:\n",
    "        return today.year - born.year - ((today.month, today.day) < (born.month, born.day))\n",
    "\n",
    "# Takes a date as a string, and returns a Python datetime object. \n",
    "# If there is no date given, returns None\n",
    "def parse_date(date):\n",
    "    if date == '' or date == '0000-00-00' or date == 'NULL':\n",
    "        return None\n",
    "    else:\n",
    "        return dt.strptime(date, '%Y-%m-%d')\n",
    "    \n",
    "# Takes a string which is either an empty string or represents an integer and or float,\n",
    "# and returns an int or None.\n",
    "def parse_maybe_int(i, typ):\n",
    "    if i == '' or i == None or i == 'NULL':\n",
    "        return None\n",
    "    else:\n",
    "        if typ == 'int':\n",
    "            return int(float(i))\n",
    "        elif typ == 'float':\n",
    "            return float(i)\n",
    "\n",
    "#csv reader to dictionary\n",
    "def CsvReader(file):\n",
    "    import csv\n",
    "    with open(file) as f:\n",
    "        reader = csv.reader(f)\n",
    "        header = next(reader)\n",
    "        a = [dict(zip(header, map(str, row))) for row in reader]\n",
    "    return a\n",
    "\n",
    "#Write dictionary to csv\n",
    "def CSVWriter(csv_file,csv_columns,dict_data):\n",
    "    import csv\n",
    "    with open(csv_file, 'w') as csvfile:\n",
    "        writer = csv.DictWriter(csvfile, fieldnames=csv_columns)\n",
    "        writer.writeheader()\n",
    "        for data in dict_data:\n",
    "            writer.writerow(data)\n",
    "\n",
    "#function to get column names\n",
    "def get_col_name(data):\n",
    "    return list(data[0].keys())\n",
    "\n",
    "#delete one column for csv dictionary\n",
    "def DeleteColumn(table,col):\n",
    "    for row in table:\n",
    "        del row[col]\n",
    "    return table\n",
    "\n",
    "#delete various columns for csv dictionary\n",
    "def DeleteColumns(table, cols):\n",
    "    for i in range(len(cols)):\n",
    "        table = DeleteColumn(table,cols[i])\n",
    "\n",
    "#Create new field in list of dictionaries from another list of dictionaries        \n",
    "def new_field_from_another(list1, list2, id1, id2, new):\n",
    "    for row in list1:\n",
    "        for record in list2:\n",
    "            if record[id2] == row[id1]:\n",
    "                record[new] = row[new]\n",
    "    return list2\n",
    "\n",
    "#get index of item in a list\n",
    "def get_index(alist, item):    \n",
    "    for i, j in enumerate(alist):\n",
    "        if j == item:\n",
    "            return i\n",
    "        \n",
    "#Append column to list from list of dictionaries\n",
    "def AppendCol(alist,item):\n",
    "    newlist = []\n",
    "    for row in alist:\n",
    "        newlist.append(row[item])\n",
    "    return newlist"
   ]
  },
  {
   "cell_type": "code",
   "execution_count": 31,
   "metadata": {},
   "outputs": [],
   "source": [
    "#read csv\n",
    "jobseekers = CsvReader('20180515_jobseekers.csv')\n",
    "CvEmpHist = CsvReader('20180515_CvEmpHist.csv')\n",
    "University = CsvReader('20180515_University.csv')"
   ]
  },
  {
   "cell_type": "code",
   "execution_count": 32,
   "metadata": {},
   "outputs": [],
   "source": [
    "#Delete unnessesary columns from jobseeker data\n",
    "jobseekers_CTD = ['Address','City','Nationality','About','JobAlert','ProfilePhoto','Provider','jobtitle','Category','signuptype','alertStatus','confirm_code','confirmed']\n",
    "\n",
    "DeleteColumns(jobseekers, jobseekers_CTD)\n",
    "\n",
    "#Delete unnessesary columns from employment history data\n",
    "CvEmpHist_CTD = ['Id','Employer','Jobtitle','Startdate','Enddate','Location','description']\n",
    "\n",
    "DeleteColumns(CvEmpHist, CvEmpHist_CTD)\n",
    "\n",
    "#Delete unnessesary columns from University data\n",
    "University_CTD = ['Id','University','StartDate','EndDate','GPA','OutOf','Course','projects']\n",
    "\n",
    "DeleteColumns(University, University_CTD)\n"
   ]
  },
  {
   "cell_type": "code",
   "execution_count": 33,
   "metadata": {},
   "outputs": [],
   "source": [
    "# Clean up the data types in the jobseekers table\n",
    "for jobseeker in jobseekers:\n",
    "    jobseeker['DOB'] = parse_maybe_int(calculate_age(parse_date(jobseeker['DOB'])),'int')\n",
    "    jobseeker['yr_exp'] = parse_maybe_int(jobseeker['yr_exp'],'int')\n",
    "    jobseeker['no'] = parse_maybe_int(jobseeker['no'],'int')\n",
    "    jobseeker['RegDate'] = parse_date(jobseeker['RegDate'])\n",
    "\n",
    "#jobseekers[0]    "
   ]
  },
  {
   "cell_type": "code",
   "execution_count": 34,
   "metadata": {},
   "outputs": [],
   "source": [
    "# Clean up the data types in the employment history table\n",
    "for history in CvEmpHist:\n",
    "    history['Salary'] = parse_maybe_int(history['Salary'],'float')\n",
    "    history['Experience'] = parse_maybe_int(history['Experience'],'int')\n",
    "    history['no'] = parse_maybe_int(history['no'],'int')\n",
    "\n",
    "    \n",
    "#CvEmpHist[0]"
   ]
  },
  {
   "cell_type": "code",
   "execution_count": 35,
   "metadata": {},
   "outputs": [],
   "source": [
    "# Clean up the data types in the employment history table\n",
    "for EduLevel in University:\n",
    "    EduLevel['no'] = parse_maybe_int(EduLevel['no'],'int')\n",
    "\n",
    "    \n",
    "#University[0]"
   ]
  },
  {
   "cell_type": "code",
   "execution_count": 36,
   "metadata": {},
   "outputs": [],
   "source": [
    "#add up all experience of each jobseeker's employment history and add to that particular jobseekers\n",
    "for row in jobseekers:\n",
    "    exp = 0\n",
    "    for record in CvEmpHist:\n",
    "        if record['no'] == row['no'] and record['Experience'] != None:\n",
    "            exp += record['Experience']\n",
    "    row['Experience'] = exp   \n",
    "\n",
    "#jobseekers"
   ]
  },
  {
   "cell_type": "code",
   "execution_count": 37,
   "metadata": {},
   "outputs": [],
   "source": [
    "#add up all experience of each jobseeker's employment history and add to that particular jobseekers\n",
    "for row in jobseekers:\n",
    "    spec = []\n",
    "    for record in CvEmpHist:  \n",
    "        if record['no'] == row['no'] and record['Specialization'] != '':\n",
    "            spec.append(record['Specialization'])\n",
    "    \n",
    "    spec_set = list(set(spec))\n",
    "    item_freq = 0 \n",
    "    mf = ''\n",
    "    for i in range(len(spec_set)):\n",
    "        if item_freq < spec.count(spec_set[i]):\n",
    "            item_freq = spec.count(spec_set[i])\n",
    "            mf = spec_set[i]\n",
    "    row['Specialization'] = mf\n",
    "\n",
    "\n",
    "#jobseekers\n"
   ]
  },
  {
   "cell_type": "code",
   "execution_count": 38,
   "metadata": {},
   "outputs": [],
   "source": [
    "#read degree data from CSV\n",
    "degrees = CsvReader(change_path(52,'1. Original Data/degree.csv'))\n",
    "#degrees"
   ]
  },
  {
   "cell_type": "code",
   "execution_count": 39,
   "metadata": {},
   "outputs": [],
   "source": [
    "#Append Degree to list\n",
    "degreeList = AppendCol(degrees,'degree')\n"
   ]
  },
  {
   "cell_type": "code",
   "execution_count": 40,
   "metadata": {},
   "outputs": [],
   "source": [
    "#add up all experience of each jobseeker's employment history and add to that particular jobseekers\n",
    "for row in jobseekers:\n",
    "    levels = []\n",
    "    for record in University:  \n",
    "        if record['no'] == row['no'] and record['Courselevel'] != '':\n",
    "            levels.append(record['Courselevel'])\n",
    "    \n",
    "    levels_set = list(set(levels))\n",
    "    item_index = 0\n",
    "    mf = ''\n",
    "    for i in range(len(levels_set)):\n",
    "        if item_index <= get_index(degreeList, levels_set[i]):\n",
    "            item_index = get_index(degreeList, levels_set[i])\n",
    "            mf = levels_set[i]\n",
    "    row['Courselevel'] = mf\n",
    "\n",
    "\n",
    "#jobseekers\n"
   ]
  },
  {
   "cell_type": "code",
   "execution_count": 41,
   "metadata": {},
   "outputs": [],
   "source": [
    "#write list of dictionaries to csv file\n",
    "#CSVWriter(change_path(52,'2. Prepared Data/20180517_jobseekers.csv'),get_col_name(jobseekers),jobseekers)"
   ]
  },
  {
   "cell_type": "code",
   "execution_count": 42,
   "metadata": {},
   "outputs": [],
   "source": [
    "#CSVWriter(change_path(52,'4. Analysis/20180517_jobseekers.csv'),get_col_name(jobseekers),jobseekers)"
   ]
  },
  {
   "cell_type": "code",
   "execution_count": null,
   "metadata": {},
   "outputs": [],
   "source": []
  }
 ],
 "metadata": {
  "kernelspec": {
   "display_name": "Python 3",
   "language": "python",
   "name": "python3"
  },
  "language_info": {
   "codemirror_mode": {
    "name": "ipython",
    "version": 3
   },
   "file_extension": ".py",
   "mimetype": "text/x-python",
   "name": "python",
   "nbconvert_exporter": "python",
   "pygments_lexer": "ipython3",
   "version": "3.6.4"
  }
 },
 "nbformat": 4,
 "nbformat_minor": 2
}
